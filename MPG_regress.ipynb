{
 "cells": [
  {
   "cell_type": "code",
   "execution_count": 1,
   "metadata": {},
   "outputs": [],
   "source": [
    "import matplotlib.pyplot as plt\n",
    "import numpy as np\n",
    "import pandas as pd\n",
    "import seaborn as sns\n",
    "\n",
    "\n",
    "# Make numpy printouts easier to read.\n",
    "np.set_printoptions(precision=3, suppress=True)"
   ]
  },
  {
   "cell_type": "code",
   "execution_count": 2,
   "metadata": {},
   "outputs": [
    {
     "name": "stdout",
     "output_type": "stream",
     "text": [
      "2.3.1\n"
     ]
    }
   ],
   "source": [
    "import tensorflow as tf\n",
    "\n",
    "from tensorflow import keras\n",
    "from tensorflow.keras import layers\n",
    "from tensorflow.keras.layers.experimental import preprocessing\n",
    "\n",
    "print(tf.__version__)"
   ]
  },
  {
   "cell_type": "code",
   "execution_count": 3,
   "metadata": {},
   "outputs": [],
   "source": [
    "url = 'http://archive.ics.uci.edu/ml/machine-learning-databases/auto-mpg/auto-mpg.data'\n",
    "column_names = ['MPG', 'Cylinders', 'Displacement', 'Horsepower', 'Weight',\n",
    "                'Acceleration', 'Model Year', 'Origin']\n",
    "\n",
    "raw_dataset = pd.read_csv(url, names=column_names,\n",
    "                          na_values='?', comment='\\t',\n",
    "                          sep=' ', skipinitialspace=True)"
   ]
  },
  {
   "cell_type": "code",
   "execution_count": 4,
   "metadata": {},
   "outputs": [
    {
     "data": {
      "text/html": [
       "<div>\n",
       "<style scoped>\n",
       "    .dataframe tbody tr th:only-of-type {\n",
       "        vertical-align: middle;\n",
       "    }\n",
       "\n",
       "    .dataframe tbody tr th {\n",
       "        vertical-align: top;\n",
       "    }\n",
       "\n",
       "    .dataframe thead th {\n",
       "        text-align: right;\n",
       "    }\n",
       "</style>\n",
       "<table border=\"1\" class=\"dataframe\">\n",
       "  <thead>\n",
       "    <tr style=\"text-align: right;\">\n",
       "      <th></th>\n",
       "      <th>MPG</th>\n",
       "      <th>Cylinders</th>\n",
       "      <th>Displacement</th>\n",
       "      <th>Horsepower</th>\n",
       "      <th>Weight</th>\n",
       "      <th>Acceleration</th>\n",
       "      <th>Model Year</th>\n",
       "      <th>Origin</th>\n",
       "    </tr>\n",
       "  </thead>\n",
       "  <tbody>\n",
       "    <tr>\n",
       "      <th>393</th>\n",
       "      <td>27.0</td>\n",
       "      <td>4</td>\n",
       "      <td>140.0</td>\n",
       "      <td>86.0</td>\n",
       "      <td>2790.0</td>\n",
       "      <td>15.6</td>\n",
       "      <td>82</td>\n",
       "      <td>1</td>\n",
       "    </tr>\n",
       "    <tr>\n",
       "      <th>394</th>\n",
       "      <td>44.0</td>\n",
       "      <td>4</td>\n",
       "      <td>97.0</td>\n",
       "      <td>52.0</td>\n",
       "      <td>2130.0</td>\n",
       "      <td>24.6</td>\n",
       "      <td>82</td>\n",
       "      <td>2</td>\n",
       "    </tr>\n",
       "    <tr>\n",
       "      <th>395</th>\n",
       "      <td>32.0</td>\n",
       "      <td>4</td>\n",
       "      <td>135.0</td>\n",
       "      <td>84.0</td>\n",
       "      <td>2295.0</td>\n",
       "      <td>11.6</td>\n",
       "      <td>82</td>\n",
       "      <td>1</td>\n",
       "    </tr>\n",
       "    <tr>\n",
       "      <th>396</th>\n",
       "      <td>28.0</td>\n",
       "      <td>4</td>\n",
       "      <td>120.0</td>\n",
       "      <td>79.0</td>\n",
       "      <td>2625.0</td>\n",
       "      <td>18.6</td>\n",
       "      <td>82</td>\n",
       "      <td>1</td>\n",
       "    </tr>\n",
       "    <tr>\n",
       "      <th>397</th>\n",
       "      <td>31.0</td>\n",
       "      <td>4</td>\n",
       "      <td>119.0</td>\n",
       "      <td>82.0</td>\n",
       "      <td>2720.0</td>\n",
       "      <td>19.4</td>\n",
       "      <td>82</td>\n",
       "      <td>1</td>\n",
       "    </tr>\n",
       "  </tbody>\n",
       "</table>\n",
       "</div>"
      ],
      "text/plain": [
       "      MPG  Cylinders  Displacement  Horsepower  Weight  Acceleration  \\\n",
       "393  27.0          4         140.0        86.0  2790.0          15.6   \n",
       "394  44.0          4          97.0        52.0  2130.0          24.6   \n",
       "395  32.0          4         135.0        84.0  2295.0          11.6   \n",
       "396  28.0          4         120.0        79.0  2625.0          18.6   \n",
       "397  31.0          4         119.0        82.0  2720.0          19.4   \n",
       "\n",
       "     Model Year  Origin  \n",
       "393          82       1  \n",
       "394          82       2  \n",
       "395          82       1  \n",
       "396          82       1  \n",
       "397          82       1  "
      ]
     },
     "execution_count": 4,
     "metadata": {},
     "output_type": "execute_result"
    }
   ],
   "source": [
    "dataset = raw_dataset.copy()\n",
    "dataset.tail()"
   ]
  },
  {
   "cell_type": "code",
   "execution_count": 5,
   "metadata": {},
   "outputs": [
    {
     "data": {
      "text/html": [
       "<div>\n",
       "<style scoped>\n",
       "    .dataframe tbody tr th:only-of-type {\n",
       "        vertical-align: middle;\n",
       "    }\n",
       "\n",
       "    .dataframe tbody tr th {\n",
       "        vertical-align: top;\n",
       "    }\n",
       "\n",
       "    .dataframe thead th {\n",
       "        text-align: right;\n",
       "    }\n",
       "</style>\n",
       "<table border=\"1\" class=\"dataframe\">\n",
       "  <thead>\n",
       "    <tr style=\"text-align: right;\">\n",
       "      <th></th>\n",
       "      <th>MPG</th>\n",
       "      <th>Cylinders</th>\n",
       "      <th>Displacement</th>\n",
       "      <th>Horsepower</th>\n",
       "      <th>Weight</th>\n",
       "      <th>Acceleration</th>\n",
       "      <th>Model Year</th>\n",
       "      <th>Origin</th>\n",
       "    </tr>\n",
       "  </thead>\n",
       "  <tbody>\n",
       "    <tr>\n",
       "      <th>0</th>\n",
       "      <td>18.0</td>\n",
       "      <td>8</td>\n",
       "      <td>307.0</td>\n",
       "      <td>130.0</td>\n",
       "      <td>3504.0</td>\n",
       "      <td>12.0</td>\n",
       "      <td>70</td>\n",
       "      <td>1</td>\n",
       "    </tr>\n",
       "    <tr>\n",
       "      <th>1</th>\n",
       "      <td>15.0</td>\n",
       "      <td>8</td>\n",
       "      <td>350.0</td>\n",
       "      <td>165.0</td>\n",
       "      <td>3693.0</td>\n",
       "      <td>11.5</td>\n",
       "      <td>70</td>\n",
       "      <td>1</td>\n",
       "    </tr>\n",
       "    <tr>\n",
       "      <th>2</th>\n",
       "      <td>18.0</td>\n",
       "      <td>8</td>\n",
       "      <td>318.0</td>\n",
       "      <td>150.0</td>\n",
       "      <td>3436.0</td>\n",
       "      <td>11.0</td>\n",
       "      <td>70</td>\n",
       "      <td>1</td>\n",
       "    </tr>\n",
       "    <tr>\n",
       "      <th>3</th>\n",
       "      <td>16.0</td>\n",
       "      <td>8</td>\n",
       "      <td>304.0</td>\n",
       "      <td>150.0</td>\n",
       "      <td>3433.0</td>\n",
       "      <td>12.0</td>\n",
       "      <td>70</td>\n",
       "      <td>1</td>\n",
       "    </tr>\n",
       "    <tr>\n",
       "      <th>4</th>\n",
       "      <td>17.0</td>\n",
       "      <td>8</td>\n",
       "      <td>302.0</td>\n",
       "      <td>140.0</td>\n",
       "      <td>3449.0</td>\n",
       "      <td>10.5</td>\n",
       "      <td>70</td>\n",
       "      <td>1</td>\n",
       "    </tr>\n",
       "    <tr>\n",
       "      <th>...</th>\n",
       "      <td>...</td>\n",
       "      <td>...</td>\n",
       "      <td>...</td>\n",
       "      <td>...</td>\n",
       "      <td>...</td>\n",
       "      <td>...</td>\n",
       "      <td>...</td>\n",
       "      <td>...</td>\n",
       "    </tr>\n",
       "    <tr>\n",
       "      <th>393</th>\n",
       "      <td>27.0</td>\n",
       "      <td>4</td>\n",
       "      <td>140.0</td>\n",
       "      <td>86.0</td>\n",
       "      <td>2790.0</td>\n",
       "      <td>15.6</td>\n",
       "      <td>82</td>\n",
       "      <td>1</td>\n",
       "    </tr>\n",
       "    <tr>\n",
       "      <th>394</th>\n",
       "      <td>44.0</td>\n",
       "      <td>4</td>\n",
       "      <td>97.0</td>\n",
       "      <td>52.0</td>\n",
       "      <td>2130.0</td>\n",
       "      <td>24.6</td>\n",
       "      <td>82</td>\n",
       "      <td>2</td>\n",
       "    </tr>\n",
       "    <tr>\n",
       "      <th>395</th>\n",
       "      <td>32.0</td>\n",
       "      <td>4</td>\n",
       "      <td>135.0</td>\n",
       "      <td>84.0</td>\n",
       "      <td>2295.0</td>\n",
       "      <td>11.6</td>\n",
       "      <td>82</td>\n",
       "      <td>1</td>\n",
       "    </tr>\n",
       "    <tr>\n",
       "      <th>396</th>\n",
       "      <td>28.0</td>\n",
       "      <td>4</td>\n",
       "      <td>120.0</td>\n",
       "      <td>79.0</td>\n",
       "      <td>2625.0</td>\n",
       "      <td>18.6</td>\n",
       "      <td>82</td>\n",
       "      <td>1</td>\n",
       "    </tr>\n",
       "    <tr>\n",
       "      <th>397</th>\n",
       "      <td>31.0</td>\n",
       "      <td>4</td>\n",
       "      <td>119.0</td>\n",
       "      <td>82.0</td>\n",
       "      <td>2720.0</td>\n",
       "      <td>19.4</td>\n",
       "      <td>82</td>\n",
       "      <td>1</td>\n",
       "    </tr>\n",
       "  </tbody>\n",
       "</table>\n",
       "<p>398 rows × 8 columns</p>\n",
       "</div>"
      ],
      "text/plain": [
       "      MPG  Cylinders  Displacement  Horsepower  Weight  Acceleration  \\\n",
       "0    18.0          8         307.0       130.0  3504.0          12.0   \n",
       "1    15.0          8         350.0       165.0  3693.0          11.5   \n",
       "2    18.0          8         318.0       150.0  3436.0          11.0   \n",
       "3    16.0          8         304.0       150.0  3433.0          12.0   \n",
       "4    17.0          8         302.0       140.0  3449.0          10.5   \n",
       "..    ...        ...           ...         ...     ...           ...   \n",
       "393  27.0          4         140.0        86.0  2790.0          15.6   \n",
       "394  44.0          4          97.0        52.0  2130.0          24.6   \n",
       "395  32.0          4         135.0        84.0  2295.0          11.6   \n",
       "396  28.0          4         120.0        79.0  2625.0          18.6   \n",
       "397  31.0          4         119.0        82.0  2720.0          19.4   \n",
       "\n",
       "     Model Year  Origin  \n",
       "0            70       1  \n",
       "1            70       1  \n",
       "2            70       1  \n",
       "3            70       1  \n",
       "4            70       1  \n",
       "..          ...     ...  \n",
       "393          82       1  \n",
       "394          82       2  \n",
       "395          82       1  \n",
       "396          82       1  \n",
       "397          82       1  \n",
       "\n",
       "[398 rows x 8 columns]"
      ]
     },
     "execution_count": 5,
     "metadata": {},
     "output_type": "execute_result"
    }
   ],
   "source": [
    "dataset"
   ]
  },
  {
   "cell_type": "code",
   "execution_count": 6,
   "metadata": {},
   "outputs": [
    {
     "data": {
      "text/plain": [
       "MPG             0\n",
       "Cylinders       0\n",
       "Displacement    0\n",
       "Horsepower      6\n",
       "Weight          0\n",
       "Acceleration    0\n",
       "Model Year      0\n",
       "Origin          0\n",
       "dtype: int64"
      ]
     },
     "execution_count": 6,
     "metadata": {},
     "output_type": "execute_result"
    }
   ],
   "source": [
    "dataset.isna().sum()\n"
   ]
  },
  {
   "cell_type": "code",
   "execution_count": 7,
   "metadata": {},
   "outputs": [],
   "source": [
    "dataset = dataset.dropna()"
   ]
  },
  {
   "cell_type": "code",
   "execution_count": 8,
   "metadata": {},
   "outputs": [
    {
     "name": "stderr",
     "output_type": "stream",
     "text": [
      "<ipython-input-8-421da2625ee2>:1: SettingWithCopyWarning: \n",
      "A value is trying to be set on a copy of a slice from a DataFrame.\n",
      "Try using .loc[row_indexer,col_indexer] = value instead\n",
      "\n",
      "See the caveats in the documentation: https://pandas.pydata.org/pandas-docs/stable/user_guide/indexing.html#returning-a-view-versus-a-copy\n",
      "  dataset['Origin'] = dataset['Origin'].map({1: 'USA', 2: 'Europe', 3: 'Japan'})\n"
     ]
    }
   ],
   "source": [
    "dataset['Origin'] = dataset['Origin'].map({1: 'USA', 2: 'Europe', 3: 'Japan'})"
   ]
  },
  {
   "cell_type": "code",
   "execution_count": 9,
   "metadata": {},
   "outputs": [
    {
     "data": {
      "text/html": [
       "<div>\n",
       "<style scoped>\n",
       "    .dataframe tbody tr th:only-of-type {\n",
       "        vertical-align: middle;\n",
       "    }\n",
       "\n",
       "    .dataframe tbody tr th {\n",
       "        vertical-align: top;\n",
       "    }\n",
       "\n",
       "    .dataframe thead th {\n",
       "        text-align: right;\n",
       "    }\n",
       "</style>\n",
       "<table border=\"1\" class=\"dataframe\">\n",
       "  <thead>\n",
       "    <tr style=\"text-align: right;\">\n",
       "      <th></th>\n",
       "      <th>MPG</th>\n",
       "      <th>Cylinders</th>\n",
       "      <th>Displacement</th>\n",
       "      <th>Horsepower</th>\n",
       "      <th>Weight</th>\n",
       "      <th>Acceleration</th>\n",
       "      <th>Model Year</th>\n",
       "      <th>Europe</th>\n",
       "      <th>Japan</th>\n",
       "      <th>USA</th>\n",
       "    </tr>\n",
       "  </thead>\n",
       "  <tbody>\n",
       "    <tr>\n",
       "      <th>393</th>\n",
       "      <td>27.0</td>\n",
       "      <td>4</td>\n",
       "      <td>140.0</td>\n",
       "      <td>86.0</td>\n",
       "      <td>2790.0</td>\n",
       "      <td>15.6</td>\n",
       "      <td>82</td>\n",
       "      <td>0</td>\n",
       "      <td>0</td>\n",
       "      <td>1</td>\n",
       "    </tr>\n",
       "    <tr>\n",
       "      <th>394</th>\n",
       "      <td>44.0</td>\n",
       "      <td>4</td>\n",
       "      <td>97.0</td>\n",
       "      <td>52.0</td>\n",
       "      <td>2130.0</td>\n",
       "      <td>24.6</td>\n",
       "      <td>82</td>\n",
       "      <td>1</td>\n",
       "      <td>0</td>\n",
       "      <td>0</td>\n",
       "    </tr>\n",
       "    <tr>\n",
       "      <th>395</th>\n",
       "      <td>32.0</td>\n",
       "      <td>4</td>\n",
       "      <td>135.0</td>\n",
       "      <td>84.0</td>\n",
       "      <td>2295.0</td>\n",
       "      <td>11.6</td>\n",
       "      <td>82</td>\n",
       "      <td>0</td>\n",
       "      <td>0</td>\n",
       "      <td>1</td>\n",
       "    </tr>\n",
       "    <tr>\n",
       "      <th>396</th>\n",
       "      <td>28.0</td>\n",
       "      <td>4</td>\n",
       "      <td>120.0</td>\n",
       "      <td>79.0</td>\n",
       "      <td>2625.0</td>\n",
       "      <td>18.6</td>\n",
       "      <td>82</td>\n",
       "      <td>0</td>\n",
       "      <td>0</td>\n",
       "      <td>1</td>\n",
       "    </tr>\n",
       "    <tr>\n",
       "      <th>397</th>\n",
       "      <td>31.0</td>\n",
       "      <td>4</td>\n",
       "      <td>119.0</td>\n",
       "      <td>82.0</td>\n",
       "      <td>2720.0</td>\n",
       "      <td>19.4</td>\n",
       "      <td>82</td>\n",
       "      <td>0</td>\n",
       "      <td>0</td>\n",
       "      <td>1</td>\n",
       "    </tr>\n",
       "  </tbody>\n",
       "</table>\n",
       "</div>"
      ],
      "text/plain": [
       "      MPG  Cylinders  Displacement  Horsepower  Weight  Acceleration  \\\n",
       "393  27.0          4         140.0        86.0  2790.0          15.6   \n",
       "394  44.0          4          97.0        52.0  2130.0          24.6   \n",
       "395  32.0          4         135.0        84.0  2295.0          11.6   \n",
       "396  28.0          4         120.0        79.0  2625.0          18.6   \n",
       "397  31.0          4         119.0        82.0  2720.0          19.4   \n",
       "\n",
       "     Model Year  Europe  Japan  USA  \n",
       "393          82       0      0    1  \n",
       "394          82       1      0    0  \n",
       "395          82       0      0    1  \n",
       "396          82       0      0    1  \n",
       "397          82       0      0    1  "
      ]
     },
     "execution_count": 9,
     "metadata": {},
     "output_type": "execute_result"
    }
   ],
   "source": [
    "dataset = pd.get_dummies(dataset, prefix='', prefix_sep='')\n",
    "dataset.tail()"
   ]
  },
  {
   "cell_type": "code",
   "execution_count": 10,
   "metadata": {},
   "outputs": [],
   "source": [
    "train_dataset = dataset.sample(frac=0.8, random_state=0)\n",
    "test_dataset = dataset.drop(train_dataset.index)"
   ]
  },
  {
   "cell_type": "code",
   "execution_count": 11,
   "metadata": {},
   "outputs": [
    {
     "data": {
      "text/plain": [
       "<seaborn.axisgrid.PairGrid at 0x15209f84ac0>"
      ]
     },
     "execution_count": 11,
     "metadata": {},
     "output_type": "execute_result"
    },
    {
     "data": {
      "image/png": "[encoded data removed]",
      "text/plain": [
       "<Figure size 720x720 with 20 Axes>"
      ]
     },
     "metadata": {
      "needs_background": "light"
     },
     "output_type": "display_data"
    }
   ],
   "source": [
    "sns.pairplot(train_dataset[['MPG', 'Cylinders', 'Displacement', 'Weight']], diag_kind='kde')"
   ]
  },
  {
   "cell_type": "code",
   "execution_count": 12,
   "metadata": {},
   "outputs": [
    {
     "data": {
      "text/html": [
       "<div>\n",
       "<style scoped>\n",
       "    .dataframe tbody tr th:only-of-type {\n",
       "        vertical-align: middle;\n",
       "    }\n",
       "\n",
       "    .dataframe tbody tr th {\n",
       "        vertical-align: top;\n",
       "    }\n",
       "\n",
       "    .dataframe thead th {\n",
       "        text-align: right;\n",
       "    }\n",
       "</style>\n",
       "<table border=\"1\" class=\"dataframe\">\n",
       "  <thead>\n",
       "    <tr style=\"text-align: right;\">\n",
       "      <th></th>\n",
       "      <th>count</th>\n",
       "      <th>mean</th>\n",
       "      <th>std</th>\n",
       "      <th>min</th>\n",
       "      <th>25%</th>\n",
       "      <th>50%</th>\n",
       "      <th>75%</th>\n",
       "      <th>max</th>\n",
       "    </tr>\n",
       "  </thead>\n",
       "  <tbody>\n",
       "    <tr>\n",
       "      <th>MPG</th>\n",
       "      <td>314.0</td>\n",
       "      <td>23.310510</td>\n",
       "      <td>7.728652</td>\n",
       "      <td>10.0</td>\n",
       "      <td>17.00</td>\n",
       "      <td>22.0</td>\n",
       "      <td>28.95</td>\n",
       "      <td>46.6</td>\n",
       "    </tr>\n",
       "    <tr>\n",
       "      <th>Cylinders</th>\n",
       "      <td>314.0</td>\n",
       "      <td>5.477707</td>\n",
       "      <td>1.699788</td>\n",
       "      <td>3.0</td>\n",
       "      <td>4.00</td>\n",
       "      <td>4.0</td>\n",
       "      <td>8.00</td>\n",
       "      <td>8.0</td>\n",
       "    </tr>\n",
       "    <tr>\n",
       "      <th>Displacement</th>\n",
       "      <td>314.0</td>\n",
       "      <td>195.318471</td>\n",
       "      <td>104.331589</td>\n",
       "      <td>68.0</td>\n",
       "      <td>105.50</td>\n",
       "      <td>151.0</td>\n",
       "      <td>265.75</td>\n",
       "      <td>455.0</td>\n",
       "    </tr>\n",
       "    <tr>\n",
       "      <th>Horsepower</th>\n",
       "      <td>314.0</td>\n",
       "      <td>104.869427</td>\n",
       "      <td>38.096214</td>\n",
       "      <td>46.0</td>\n",
       "      <td>76.25</td>\n",
       "      <td>94.5</td>\n",
       "      <td>128.00</td>\n",
       "      <td>225.0</td>\n",
       "    </tr>\n",
       "    <tr>\n",
       "      <th>Weight</th>\n",
       "      <td>314.0</td>\n",
       "      <td>2990.251592</td>\n",
       "      <td>843.898596</td>\n",
       "      <td>1649.0</td>\n",
       "      <td>2256.50</td>\n",
       "      <td>2822.5</td>\n",
       "      <td>3608.00</td>\n",
       "      <td>5140.0</td>\n",
       "    </tr>\n",
       "    <tr>\n",
       "      <th>Acceleration</th>\n",
       "      <td>314.0</td>\n",
       "      <td>15.559236</td>\n",
       "      <td>2.789230</td>\n",
       "      <td>8.0</td>\n",
       "      <td>13.80</td>\n",
       "      <td>15.5</td>\n",
       "      <td>17.20</td>\n",
       "      <td>24.8</td>\n",
       "    </tr>\n",
       "    <tr>\n",
       "      <th>Model Year</th>\n",
       "      <td>314.0</td>\n",
       "      <td>75.898089</td>\n",
       "      <td>3.675642</td>\n",
       "      <td>70.0</td>\n",
       "      <td>73.00</td>\n",
       "      <td>76.0</td>\n",
       "      <td>79.00</td>\n",
       "      <td>82.0</td>\n",
       "    </tr>\n",
       "    <tr>\n",
       "      <th>Europe</th>\n",
       "      <td>314.0</td>\n",
       "      <td>0.178344</td>\n",
       "      <td>0.383413</td>\n",
       "      <td>0.0</td>\n",
       "      <td>0.00</td>\n",
       "      <td>0.0</td>\n",
       "      <td>0.00</td>\n",
       "      <td>1.0</td>\n",
       "    </tr>\n",
       "    <tr>\n",
       "      <th>Japan</th>\n",
       "      <td>314.0</td>\n",
       "      <td>0.197452</td>\n",
       "      <td>0.398712</td>\n",
       "      <td>0.0</td>\n",
       "      <td>0.00</td>\n",
       "      <td>0.0</td>\n",
       "      <td>0.00</td>\n",
       "      <td>1.0</td>\n",
       "    </tr>\n",
       "    <tr>\n",
       "      <th>USA</th>\n",
       "      <td>314.0</td>\n",
       "      <td>0.624204</td>\n",
       "      <td>0.485101</td>\n",
       "      <td>0.0</td>\n",
       "      <td>0.00</td>\n",
       "      <td>1.0</td>\n",
       "      <td>1.00</td>\n",
       "      <td>1.0</td>\n",
       "    </tr>\n",
       "  </tbody>\n",
       "</table>\n",
       "</div>"
      ],
      "text/plain": [
       "              count         mean         std     min      25%     50%  \\\n",
       "MPG           314.0    23.310510    7.728652    10.0    17.00    22.0   \n",
       "Cylinders     314.0     5.477707    1.699788     3.0     4.00     4.0   \n",
       "Displacement  314.0   195.318471  104.331589    68.0   105.50   151.0   \n",
       "Horsepower    314.0   104.869427   38.096214    46.0    76.25    94.5   \n",
       "Weight        314.0  2990.251592  843.898596  1649.0  2256.50  2822.5   \n",
       "Acceleration  314.0    15.559236    2.789230     8.0    13.80    15.5   \n",
       "Model Year    314.0    75.898089    3.675642    70.0    73.00    76.0   \n",
       "Europe        314.0     0.178344    0.383413     0.0     0.00     0.0   \n",
       "Japan         314.0     0.197452    0.398712     0.0     0.00     0.0   \n",
       "USA           314.0     0.624204    0.485101     0.0     0.00     1.0   \n",
       "\n",
       "                  75%     max  \n",
       "MPG             28.95    46.6  \n",
       "Cylinders        8.00     8.0  \n",
       "Displacement   265.75   455.0  \n",
       "Horsepower     128.00   225.0  \n",
       "Weight        3608.00  5140.0  \n",
       "Acceleration    17.20    24.8  \n",
       "Model Year      79.00    82.0  \n",
       "Europe           0.00     1.0  \n",
       "Japan            0.00     1.0  \n",
       "USA              1.00     1.0  "
      ]
     },
     "execution_count": 12,
     "metadata": {},
     "output_type": "execute_result"
    }
   ],
   "source": [
    " train_dataset.describe().transpose()"
   ]
  },
  {
   "cell_type": "code",
   "execution_count": 13,
   "metadata": {},
   "outputs": [],
   "source": [
    "train_features = train_dataset.copy()\n",
    "test_features = test_dataset.copy()\n",
    "\n",
    "train_labels = train_features.pop('MPG')\n",
    "test_labels = test_features.pop('MPG')"
   ]
  },
  {
   "cell_type": "code",
   "execution_count": 14,
   "metadata": {},
   "outputs": [
    {
     "data": {
      "text/html": [
       "<div>\n",
       "<style scoped>\n",
       "    .dataframe tbody tr th:only-of-type {\n",
       "        vertical-align: middle;\n",
       "    }\n",
       "\n",
       "    .dataframe tbody tr th {\n",
       "        vertical-align: top;\n",
       "    }\n",
       "\n",
       "    .dataframe thead th {\n",
       "        text-align: right;\n",
       "    }\n",
       "</style>\n",
       "<table border=\"1\" class=\"dataframe\">\n",
       "  <thead>\n",
       "    <tr style=\"text-align: right;\">\n",
       "      <th></th>\n",
       "      <th>mean</th>\n",
       "      <th>std</th>\n",
       "    </tr>\n",
       "  </thead>\n",
       "  <tbody>\n",
       "    <tr>\n",
       "      <th>MPG</th>\n",
       "      <td>23.310510</td>\n",
       "      <td>7.728652</td>\n",
       "    </tr>\n",
       "    <tr>\n",
       "      <th>Cylinders</th>\n",
       "      <td>5.477707</td>\n",
       "      <td>1.699788</td>\n",
       "    </tr>\n",
       "    <tr>\n",
       "      <th>Displacement</th>\n",
       "      <td>195.318471</td>\n",
       "      <td>104.331589</td>\n",
       "    </tr>\n",
       "    <tr>\n",
       "      <th>Horsepower</th>\n",
       "      <td>104.869427</td>\n",
       "      <td>38.096214</td>\n",
       "    </tr>\n",
       "    <tr>\n",
       "      <th>Weight</th>\n",
       "      <td>2990.251592</td>\n",
       "      <td>843.898596</td>\n",
       "    </tr>\n",
       "    <tr>\n",
       "      <th>Acceleration</th>\n",
       "      <td>15.559236</td>\n",
       "      <td>2.789230</td>\n",
       "    </tr>\n",
       "    <tr>\n",
       "      <th>Model Year</th>\n",
       "      <td>75.898089</td>\n",
       "      <td>3.675642</td>\n",
       "    </tr>\n",
       "    <tr>\n",
       "      <th>Europe</th>\n",
       "      <td>0.178344</td>\n",
       "      <td>0.383413</td>\n",
       "    </tr>\n",
       "    <tr>\n",
       "      <th>Japan</th>\n",
       "      <td>0.197452</td>\n",
       "      <td>0.398712</td>\n",
       "    </tr>\n",
       "    <tr>\n",
       "      <th>USA</th>\n",
       "      <td>0.624204</td>\n",
       "      <td>0.485101</td>\n",
       "    </tr>\n",
       "  </tbody>\n",
       "</table>\n",
       "</div>"
      ],
      "text/plain": [
       "                     mean         std\n",
       "MPG             23.310510    7.728652\n",
       "Cylinders        5.477707    1.699788\n",
       "Displacement   195.318471  104.331589\n",
       "Horsepower     104.869427   38.096214\n",
       "Weight        2990.251592  843.898596\n",
       "Acceleration    15.559236    2.789230\n",
       "Model Year      75.898089    3.675642\n",
       "Europe           0.178344    0.383413\n",
       "Japan            0.197452    0.398712\n",
       "USA              0.624204    0.485101"
      ]
     },
     "execution_count": 14,
     "metadata": {},
     "output_type": "execute_result"
    }
   ],
   "source": [
    "train_dataset.describe().transpose()[['mean', 'std']]"
   ]
  },
  {
   "cell_type": "code",
   "execution_count": 15,
   "metadata": {},
   "outputs": [],
   "source": [
    "normalizer = preprocessing.Normalization()"
   ]
  },
  {
   "cell_type": "code",
   "execution_count": 16,
   "metadata": {},
   "outputs": [],
   "source": [
    "normalizer.adapt(np.array(train_features))"
   ]
  },
  {
   "cell_type": "code",
   "execution_count": 17,
   "metadata": {},
   "outputs": [
    {
     "name": "stdout",
     "output_type": "stream",
     "text": [
      "[   5.478  195.318  104.869 2990.252   15.559   75.898    0.178    0.197\n",
      "    0.624]\n"
     ]
    }
   ],
   "source": [
    "print(normalizer.mean.numpy())"
   ]
  },
  {
   "cell_type": "code",
   "execution_count": 18,
   "metadata": {},
   "outputs": [
    {
     "name": "stdout",
     "output_type": "stream",
     "text": [
      "First example: [[   4.    90.    75.  2125.    14.5   74.     0.     0.     1. ]]\n",
      "\n",
      "Normalized: [[-0.87 -1.01 -0.79 -1.03 -0.38 -0.52 -0.47 -0.5   0.78]]\n"
     ]
    }
   ],
   "source": [
    "first = np.array(train_features[:1])\n",
    "\n",
    "with np.printoptions(precision=2, suppress=True):\n",
    "  print('First example:', first)\n",
    "  print()\n",
    "  print('Normalized:', normalizer(first).numpy())"
   ]
  },
  {
   "cell_type": "code",
   "execution_count": 19,
   "metadata": {},
   "outputs": [],
   "source": [
    "horsepower = np.array(train_features['Horsepower'])\n",
    "\n",
    "horsepower_normalizer = preprocessing.Normalization(input_shape=[1,])\n",
    "horsepower_normalizer.adapt(horsepower)"
   ]
  },
  {
   "cell_type": "code",
   "execution_count": 20,
   "metadata": {},
   "outputs": [
    {
     "name": "stdout",
     "output_type": "stream",
     "text": [
      "Model: \"sequential\"\n",
      "_________________________________________________________________\n",
      "Layer (type)                 Output Shape              Param #   \n",
      "=================================================================\n",
      "normalization_1 (Normalizati (None, 1)                 3         \n",
      "_________________________________________________________________\n",
      "dense (Dense)                (None, 1)                 2         \n",
      "=================================================================\n",
      "Total params: 5\n",
      "Trainable params: 2\n",
      "Non-trainable params: 3\n",
      "_________________________________________________________________\n"
     ]
    }
   ],
   "source": [
    "horsepower_model = tf.keras.Sequential([\n",
    "    horsepower_normalizer,\n",
    "    layers.Dense(units=1)\n",
    "])\n",
    "\n",
    "horsepower_model.summary()"
   ]
  },
  {
   "cell_type": "code",
   "execution_count": 21,
   "metadata": {},
   "outputs": [
    {
     "data": {
      "text/plain": [
       "array([[ 0.997],\n",
       "       [ 0.563],\n",
       "       [-1.841],\n",
       "       [ 1.398],\n",
       "       [ 1.265],\n",
       "       [ 0.497],\n",
       "       [ 1.498],\n",
       "       [ 1.265],\n",
       "       [ 0.33 ],\n",
       "       [ 0.563]], dtype=float32)"
      ]
     },
     "execution_count": 21,
     "metadata": {},
     "output_type": "execute_result"
    }
   ],
   "source": [
    "horsepower_model.predict(horsepower[:10])"
   ]
  },
  {
   "cell_type": "code",
   "execution_count": 22,
   "metadata": {},
   "outputs": [],
   "source": [
    "horsepower_model.compile(\n",
    "    optimizer=tf.optimizers.Adam(learning_rate=0.1),\n",
    "    loss='mean_absolute_error')"
   ]
  },
  {
   "cell_type": "code",
   "execution_count": 23,
   "metadata": {},
   "outputs": [
    {
     "name": "stdout",
     "output_type": "stream",
     "text": [
      "Wall time: 2.2 s\n"
     ]
    }
   ],
   "source": [
    "%%time\n",
    "history = horsepower_model.fit(\n",
    "    train_features['Horsepower'], train_labels,\n",
    "    epochs=100,\n",
    "    # suppress logging\n",
    "    verbose=0,\n",
    "    # Calculate validation results on 20% of the training data\n",
    "    validation_split = 0.2)"
   ]
  },
  {
   "cell_type": "code",
   "execution_count": 24,
   "metadata": {},
   "outputs": [
    {
     "data": {
      "text/html": [
       "<div>\n",
       "<style scoped>\n",
       "    .dataframe tbody tr th:only-of-type {\n",
       "        vertical-align: middle;\n",
       "    }\n",
       "\n",
       "    .dataframe tbody tr th {\n",
       "        vertical-align: top;\n",
       "    }\n",
       "\n",
       "    .dataframe thead th {\n",
       "        text-align: right;\n",
       "    }\n",
       "</style>\n",
       "<table border=\"1\" class=\"dataframe\">\n",
       "  <thead>\n",
       "    <tr style=\"text-align: right;\">\n",
       "      <th></th>\n",
       "      <th>loss</th>\n",
       "      <th>val_loss</th>\n",
       "      <th>epoch</th>\n",
       "    </tr>\n",
       "  </thead>\n",
       "  <tbody>\n",
       "    <tr>\n",
       "      <th>95</th>\n",
       "      <td>3.805633</td>\n",
       "      <td>4.201638</td>\n",
       "      <td>95</td>\n",
       "    </tr>\n",
       "    <tr>\n",
       "      <th>96</th>\n",
       "      <td>3.802601</td>\n",
       "      <td>4.198248</td>\n",
       "      <td>96</td>\n",
       "    </tr>\n",
       "    <tr>\n",
       "      <th>97</th>\n",
       "      <td>3.802153</td>\n",
       "      <td>4.185488</td>\n",
       "      <td>97</td>\n",
       "    </tr>\n",
       "    <tr>\n",
       "      <th>98</th>\n",
       "      <td>3.805295</td>\n",
       "      <td>4.194973</td>\n",
       "      <td>98</td>\n",
       "    </tr>\n",
       "    <tr>\n",
       "      <th>99</th>\n",
       "      <td>3.804379</td>\n",
       "      <td>4.186881</td>\n",
       "      <td>99</td>\n",
       "    </tr>\n",
       "  </tbody>\n",
       "</table>\n",
       "</div>"
      ],
      "text/plain": [
       "        loss  val_loss  epoch\n",
       "95  3.805633  4.201638     95\n",
       "96  3.802601  4.198248     96\n",
       "97  3.802153  4.185488     97\n",
       "98  3.805295  4.194973     98\n",
       "99  3.804379  4.186881     99"
      ]
     },
     "execution_count": 24,
     "metadata": {},
     "output_type": "execute_result"
    }
   ],
   "source": [
    "hist = pd.DataFrame(history.history)\n",
    "hist['epoch'] = history.epoch\n",
    "hist.tail()"
   ]
  },
  {
   "cell_type": "code",
   "execution_count": 25,
   "metadata": {},
   "outputs": [],
   "source": [
    "def plot_loss(history):\n",
    "  plt.plot(history.history['loss'], label='loss')\n",
    "  plt.plot(history.history['val_loss'], label='val_loss')\n",
    "  plt.ylim([0, 10])\n",
    "  plt.xlabel('Epoch')\n",
    "  plt.ylabel('Error [MPG]')\n",
    "  plt.legend()\n",
    "  plt.grid(True)"
   ]
  },
  {
   "cell_type": "code",
   "execution_count": 26,
   "metadata": {},
   "outputs": [
    {
     "data": {
      "image/png": "[encoded data removed]",
      "text/plain": [
       "<Figure size 432x288 with 1 Axes>"
      ]
     },
     "metadata": {
      "needs_background": "light"
     },
     "output_type": "display_data"
    }
   ],
   "source": [
    "plot_loss(history)"
   ]
  },
  {
   "cell_type": "code",
   "execution_count": 27,
   "metadata": {},
   "outputs": [],
   "source": [
    "test_results = {}\n",
    "\n",
    "test_results['horsepower_model'] = horsepower_model.evaluate(\n",
    "    test_features['Horsepower'],\n",
    "    test_labels, verbose=0)"
   ]
  },
  {
   "cell_type": "code",
   "execution_count": 28,
   "metadata": {},
   "outputs": [],
   "source": [
    "x = tf.linspace(0.0, 250, 251)\n",
    "y = horsepower_model.predict(x)"
   ]
  },
  {
   "cell_type": "code",
   "execution_count": 29,
   "metadata": {},
   "outputs": [],
   "source": [
    "def plot_horsepower(x, y):\n",
    "  plt.scatter(train_features['Horsepower'], train_labels, label='Data')\n",
    "  plt.plot(x, y, color='k', label='Predictions')\n",
    "  plt.xlabel('Horsepower')\n",
    "  plt.ylabel('MPG')\n",
    "  plt.legend()"
   ]
  },
  {
   "cell_type": "code",
   "execution_count": 30,
   "metadata": {},
   "outputs": [
    {
     "data": {
      "image/png": "[encoded data removed]",
      "text/plain": [
       "<Figure size 432x288 with 1 Axes>"
      ]
     },
     "metadata": {
      "needs_background": "light"
     },
     "output_type": "display_data"
    }
   ],
   "source": [
    "plot_horsepower(x,y)"
   ]
  },
  {
   "cell_type": "code",
   "execution_count": 31,
   "metadata": {},
   "outputs": [],
   "source": [
    "linear_model = tf.keras.Sequential([\n",
    "    normalizer,\n",
    "    layers.Dense(units=1)\n",
    "])"
   ]
  },
  {
   "cell_type": "code",
   "execution_count": 33,
   "metadata": {},
   "outputs": [
    {
     "data": {
      "text/plain": [
       "array([[ 0.325],\n",
       "       [-0.543],\n",
       "       [ 0.306],\n",
       "       [ 0.435],\n",
       "       [ 0.186],\n",
       "       [-0.372],\n",
       "       [ 0.106],\n",
       "       [-3.081],\n",
       "       [-0.229],\n",
       "       [-0.125]], dtype=float32)"
      ]
     },
     "execution_count": 33,
     "metadata": {},
     "output_type": "execute_result"
    }
   ],
   "source": [
    "linear_model.predict(train_features[:10])"
   ]
  },
  {
   "cell_type": "code",
   "execution_count": 34,
   "metadata": {},
   "outputs": [
    {
     "data": {
      "text/plain": [
       "<tf.Variable 'dense_2/kernel:0' shape=(9, 1) dtype=float32, numpy=\n",
       "array([[ 0.381],\n",
       "       [-0.   ],\n",
       "       [ 0.462],\n",
       "       [-0.746],\n",
       "       [-0.529],\n",
       "       [ 0.135],\n",
       "       [ 0.028],\n",
       "       [ 0.652],\n",
       "       [ 0.59 ]], dtype=float32)>"
      ]
     },
     "execution_count": 34,
     "metadata": {},
     "output_type": "execute_result"
    }
   ],
   "source": [
    "linear_model.layers[1].kernel"
   ]
  },
  {
   "cell_type": "code",
   "execution_count": 35,
   "metadata": {},
   "outputs": [],
   "source": [
    "linear_model.compile(\n",
    "    optimizer=tf.optimizers.Adam(learning_rate=0.1),\n",
    "    loss='mean_absolute_error')"
   ]
  },
  {
   "cell_type": "code",
   "execution_count": 36,
   "metadata": {},
   "outputs": [
    {
     "name": "stdout",
     "output_type": "stream",
     "text": [
      "Wall time: 2.09 s\n"
     ]
    }
   ],
   "source": [
    "%%time\n",
    "history = linear_model.fit(\n",
    "    train_features, train_labels, \n",
    "    epochs=100,\n",
    "    # suppress logging\n",
    "    verbose=0,\n",
    "    # Calculate validation results on 20% of the training data\n",
    "    validation_split = 0.2)"
   ]
  },
  {
   "cell_type": "code",
   "execution_count": 37,
   "metadata": {},
   "outputs": [
    {
     "data": {
      "image/png": "[encoded data removed]",
      "text/plain": [
       "<Figure size 432x288 with 1 Axes>"
      ]
     },
     "metadata": {
      "needs_background": "light"
     },
     "output_type": "display_data"
    }
   ],
   "source": [
    "plot_loss(history)"
   ]
  },
  {
   "cell_type": "code",
   "execution_count": 38,
   "metadata": {},
   "outputs": [],
   "source": [
    "test_results['linear_model'] = linear_model.evaluate(\n",
    "    test_features, test_labels, verbose=0)"
   ]
  },
  {
   "cell_type": "code",
   "execution_count": 39,
   "metadata": {},
   "outputs": [],
   "source": [
    "def build_and_compile_model(norm):\n",
    "  model = keras.Sequential([\n",
    "      norm,\n",
    "      layers.Dense(64, activation='relu'),\n",
    "      layers.Dense(64, activation='relu'),\n",
    "      layers.Dense(1)\n",
    "  ])\n",
    "\n",
    "  model.compile(loss='mean_absolute_error',\n",
    "                optimizer=tf.keras.optimizers.Adam(0.001))\n",
    "  return model"
   ]
  },
  {
   "cell_type": "code",
   "execution_count": 40,
   "metadata": {},
   "outputs": [],
   "source": [
    "dnn_horsepower_model = build_and_compile_model(horsepower_normalizer)"
   ]
  },
  {
   "cell_type": "code",
   "execution_count": 41,
   "metadata": {},
   "outputs": [
    {
     "name": "stdout",
     "output_type": "stream",
     "text": [
      "Model: \"sequential_3\"\n",
      "_________________________________________________________________\n",
      "Layer (type)                 Output Shape              Param #   \n",
      "=================================================================\n",
      "normalization_1 (Normalizati (None, 1)                 3         \n",
      "_________________________________________________________________\n",
      "dense_3 (Dense)              (None, 64)                128       \n",
      "_________________________________________________________________\n",
      "dense_4 (Dense)              (None, 64)                4160      \n",
      "_________________________________________________________________\n",
      "dense_5 (Dense)              (None, 1)                 65        \n",
      "=================================================================\n",
      "Total params: 4,356\n",
      "Trainable params: 4,353\n",
      "Non-trainable params: 3\n",
      "_________________________________________________________________\n"
     ]
    }
   ],
   "source": [
    "dnn_horsepower_model.summary()"
   ]
  },
  {
   "cell_type": "code",
   "execution_count": 42,
   "metadata": {},
   "outputs": [
    {
     "name": "stdout",
     "output_type": "stream",
     "text": [
      "Wall time: 2.3 s\n"
     ]
    }
   ],
   "source": [
    "%%time\n",
    "history = dnn_horsepower_model.fit(\n",
    "    train_features['Horsepower'], train_labels,\n",
    "    validation_split=0.2,\n",
    "    verbose=0, epochs=100)"
   ]
  },
  {
   "cell_type": "code",
   "execution_count": 43,
   "metadata": {},
   "outputs": [
    {
     "data": {
      "image/png": "[encoded data removed]",
      "text/plain": [
       "<Figure size 432x288 with 1 Axes>"
      ]
     },
     "metadata": {
      "needs_background": "light"
     },
     "output_type": "display_data"
    }
   ],
   "source": [
    "plot_loss(history)"
   ]
  },
  {
   "cell_type": "code",
   "execution_count": 44,
   "metadata": {},
   "outputs": [],
   "source": [
    "x = tf.linspace(0.0, 250, 251)\n",
    "y = dnn_horsepower_model.predict(x)"
   ]
  },
  {
   "cell_type": "code",
   "execution_count": 45,
   "metadata": {},
   "outputs": [
    {
     "data": {
      "image/png": "[encoded data removed]",
      "text/plain": [
       "<Figure size 432x288 with 1 Axes>"
      ]
     },
     "metadata": {
      "needs_background": "light"
     },
     "output_type": "display_data"
    }
   ],
   "source": [
    "plot_horsepower(x, y)"
   ]
  },
  {
   "cell_type": "code",
   "execution_count": 46,
   "metadata": {},
   "outputs": [],
   "source": [
    "test_results['dnn_horsepower_model'] = dnn_horsepower_model.evaluate(\n",
    "    test_features['Horsepower'], test_labels,\n",
    "    verbose=0)"
   ]
  },
  {
   "cell_type": "code",
   "execution_count": 47,
   "metadata": {},
   "outputs": [
    {
     "name": "stdout",
     "output_type": "stream",
     "text": [
      "Model: \"sequential_4\"\n",
      "_________________________________________________________________\n",
      "Layer (type)                 Output Shape              Param #   \n",
      "=================================================================\n",
      "normalization (Normalization (None, 9)                 19        \n",
      "_________________________________________________________________\n",
      "dense_6 (Dense)              (None, 64)                640       \n",
      "_________________________________________________________________\n",
      "dense_7 (Dense)              (None, 64)                4160      \n",
      "_________________________________________________________________\n",
      "dense_8 (Dense)              (None, 1)                 65        \n",
      "=================================================================\n",
      "Total params: 4,884\n",
      "Trainable params: 4,865\n",
      "Non-trainable params: 19\n",
      "_________________________________________________________________\n"
     ]
    }
   ],
   "source": [
    "dnn_model = build_and_compile_model(normalizer)\n",
    "dnn_model.summary()"
   ]
  },
  {
   "cell_type": "code",
   "execution_count": 48,
   "metadata": {},
   "outputs": [
    {
     "name": "stdout",
     "output_type": "stream",
     "text": [
      "Wall time: 2.3 s\n"
     ]
    }
   ],
   "source": [
    "%%time\n",
    "history = dnn_model.fit(\n",
    "    train_features, train_labels,\n",
    "    validation_split=0.2,\n",
    "    verbose=0, epochs=100)"
   ]
  },
  {
   "cell_type": "code",
   "execution_count": 49,
   "metadata": {},
   "outputs": [
    {
     "data": {
      "image/png": "[encoded data removed]",
      "text/plain": [
       "<Figure size 432x288 with 1 Axes>"
      ]
     },
     "metadata": {
      "needs_background": "light"
     },
     "output_type": "display_data"
    }
   ],
   "source": [
    "plot_loss(history)"
   ]
  },
  {
   "cell_type": "code",
   "execution_count": 50,
   "metadata": {},
   "outputs": [],
   "source": [
    "test_results['dnn_model'] = dnn_model.evaluate(test_features, test_labels, verbose=0)"
   ]
  },
  {
   "cell_type": "code",
   "execution_count": 51,
   "metadata": {},
   "outputs": [
    {
     "data": {
      "text/html": [
       "<div>\n",
       "<style scoped>\n",
       "    .dataframe tbody tr th:only-of-type {\n",
       "        vertical-align: middle;\n",
       "    }\n",
       "\n",
       "    .dataframe tbody tr th {\n",
       "        vertical-align: top;\n",
       "    }\n",
       "\n",
       "    .dataframe thead th {\n",
       "        text-align: right;\n",
       "    }\n",
       "</style>\n",
       "<table border=\"1\" class=\"dataframe\">\n",
       "  <thead>\n",
       "    <tr style=\"text-align: right;\">\n",
       "      <th></th>\n",
       "      <th>Mean absolute error [MPG]</th>\n",
       "    </tr>\n",
       "  </thead>\n",
       "  <tbody>\n",
       "    <tr>\n",
       "      <th>horsepower_model</th>\n",
       "      <td>3.642219</td>\n",
       "    </tr>\n",
       "    <tr>\n",
       "      <th>linear_model</th>\n",
       "      <td>2.545475</td>\n",
       "    </tr>\n",
       "    <tr>\n",
       "      <th>dnn_horsepower_model</th>\n",
       "      <td>2.912471</td>\n",
       "    </tr>\n",
       "    <tr>\n",
       "      <th>dnn_model</th>\n",
       "      <td>1.732403</td>\n",
       "    </tr>\n",
       "  </tbody>\n",
       "</table>\n",
       "</div>"
      ],
      "text/plain": [
       "                      Mean absolute error [MPG]\n",
       "horsepower_model                       3.642219\n",
       "linear_model                           2.545475\n",
       "dnn_horsepower_model                   2.912471\n",
       "dnn_model                              1.732403"
      ]
     },
     "execution_count": 51,
     "metadata": {},
     "output_type": "execute_result"
    }
   ],
   "source": [
    "pd.DataFrame(test_results, index=['Mean absolute error [MPG]']).T"
   ]
  },
  {
   "cell_type": "code",
   "execution_count": 52,
   "metadata": {},
   "outputs": [
    {
     "data": {
      "image/png": "[encoded data removed]",
      "text/plain": [
       "<Figure size 432x288 with 1 Axes>"
      ]
     },
     "metadata": {
      "needs_background": "light"
     },
     "output_type": "display_data"
    }
   ],
   "source": [
    "test_predictions = dnn_model.predict(test_features).flatten()\n",
    "\n",
    "a = plt.axes(aspect='equal')\n",
    "plt.scatter(test_labels, test_predictions)\n",
    "plt.xlabel('True Values [MPG]')\n",
    "plt.ylabel('Predictions [MPG]')\n",
    "lims = [0, 50]\n",
    "plt.xlim(lims)\n",
    "plt.ylim(lims)\n",
    "_ = plt.plot(lims, lims)\n"
   ]
  },
  {
   "cell_type": "code",
   "execution_count": 53,
   "metadata": {},
   "outputs": [
    {
     "data": {
      "image/png": "[encoded data removed]",
      "text/plain": [
       "<Figure size 432x288 with 1 Axes>"
      ]
     },
     "metadata": {
      "needs_background": "light"
     },
     "output_type": "display_data"
    }
   ],
   "source": [
    "error = test_predictions - test_labels\n",
    "plt.hist(error, bins=25)\n",
    "plt.xlabel('Prediction Error [MPG]')\n",
    "_ = plt.ylabel('Count')"
   ]
  },
  {
   "cell_type": "code",
   "execution_count": 54,
   "metadata": {},
   "outputs": [
    {
     "name": "stdout",
     "output_type": "stream",
     "text": [
      "WARNING:tensorflow:From C:\\Users\\Dawid\\anaconda3\\lib\\site-packages\\tensorflow\\python\\training\\tracking\\tracking.py:111: Model.state_updates (from tensorflow.python.keras.engine.training) is deprecated and will be removed in a future version.\n",
      "Instructions for updating:\n",
      "This property should not be used in TensorFlow 2.0, as updates are applied automatically.\n",
      "WARNING:tensorflow:From C:\\Users\\Dawid\\anaconda3\\lib\\site-packages\\tensorflow\\python\\training\\tracking\\tracking.py:111: Layer.updates (from tensorflow.python.keras.engine.base_layer) is deprecated and will be removed in a future version.\n",
      "Instructions for updating:\n",
      "This property should not be used in TensorFlow 2.0, as updates are applied automatically.\n",
      "INFO:tensorflow:Assets written to: dnn_model\\assets\n"
     ]
    }
   ],
   "source": [
    "dnn_model.save('dnn_model')"
   ]
  },
  {
   "cell_type": "code",
   "execution_count": 55,
   "metadata": {},
   "outputs": [],
   "source": [
    "reloaded = tf.keras.models.load_model('dnn_model')\n",
    "\n",
    "test_results['reloaded'] = reloaded.evaluate(\n",
    "    test_features, test_labels, verbose=0)"
   ]
  },
  {
   "cell_type": "code",
   "execution_count": 56,
   "metadata": {},
   "outputs": [
    {
     "data": {
      "text/html": [
       "<div>\n",
       "<style scoped>\n",
       "    .dataframe tbody tr th:only-of-type {\n",
       "        vertical-align: middle;\n",
       "    }\n",
       "\n",
       "    .dataframe tbody tr th {\n",
       "        vertical-align: top;\n",
       "    }\n",
       "\n",
       "    .dataframe thead th {\n",
       "        text-align: right;\n",
       "    }\n",
       "</style>\n",
       "<table border=\"1\" class=\"dataframe\">\n",
       "  <thead>\n",
       "    <tr style=\"text-align: right;\">\n",
       "      <th></th>\n",
       "      <th>Mean absolute error [MPG]</th>\n",
       "    </tr>\n",
       "  </thead>\n",
       "  <tbody>\n",
       "    <tr>\n",
       "      <th>horsepower_model</th>\n",
       "      <td>3.642219</td>\n",
       "    </tr>\n",
       "    <tr>\n",
       "      <th>linear_model</th>\n",
       "      <td>2.545475</td>\n",
       "    </tr>\n",
       "    <tr>\n",
       "      <th>dnn_horsepower_model</th>\n",
       "      <td>2.912471</td>\n",
       "    </tr>\n",
       "    <tr>\n",
       "      <th>dnn_model</th>\n",
       "      <td>1.732403</td>\n",
       "    </tr>\n",
       "    <tr>\n",
       "      <th>reloaded</th>\n",
       "      <td>1.732403</td>\n",
       "    </tr>\n",
       "  </tbody>\n",
       "</table>\n",
       "</div>"
      ],
      "text/plain": [
       "                      Mean absolute error [MPG]\n",
       "horsepower_model                       3.642219\n",
       "linear_model                           2.545475\n",
       "dnn_horsepower_model                   2.912471\n",
       "dnn_model                              1.732403\n",
       "reloaded                               1.732403"
      ]
     },
     "execution_count": 56,
     "metadata": {},
     "output_type": "execute_result"
    }
   ],
   "source": [
    "pd.DataFrame(test_results, index=['Mean absolute error [MPG]']).T"
   ]
  },
  {
   "cell_type": "code",
   "execution_count": 57,
   "metadata": {},
   "outputs": [],
   "source": [
    "def build_and_compile_model(norm):\n",
    "  model = keras.Sequential([\n",
    "      norm,\n",
    "      layers.Dense(64, activation='relu'),\n",
    "      layers.Dense(64, activation='relu'),\n",
    "      layers.Dense(64, activation='relu'),\n",
    "      layers.Dense(64, activation='relu'),\n",
    "      layers.Dense(1)\n",
    "  ])\n",
    "\n",
    "  model.compile(loss='mean_absolute_error',\n",
    "                optimizer=tf.keras.optimizers.Adam(0.001))\n",
    "  return model"
   ]
  },
  {
   "cell_type": "code",
   "execution_count": 58,
   "metadata": {},
   "outputs": [
    {
     "name": "stdout",
     "output_type": "stream",
     "text": [
      "Model: \"sequential_5\"\n",
      "_________________________________________________________________\n",
      "Layer (type)                 Output Shape              Param #   \n",
      "=================================================================\n",
      "normalization (Normalization (None, 9)                 19        \n",
      "_________________________________________________________________\n",
      "dense_9 (Dense)              (None, 64)                640       \n",
      "_________________________________________________________________\n",
      "dense_10 (Dense)             (None, 64)                4160      \n",
      "_________________________________________________________________\n",
      "dense_11 (Dense)             (None, 64)                4160      \n",
      "_________________________________________________________________\n",
      "dense_12 (Dense)             (None, 64)                4160      \n",
      "_________________________________________________________________\n",
      "dense_13 (Dense)             (None, 1)                 65        \n",
      "=================================================================\n",
      "Total params: 13,204\n",
      "Trainable params: 13,185\n",
      "Non-trainable params: 19\n",
      "_________________________________________________________________\n"
     ]
    }
   ],
   "source": [
    "dnn_model = build_and_compile_model(normalizer)\n",
    "dnn_model.summary()"
   ]
  },
  {
   "cell_type": "code",
   "execution_count": 59,
   "metadata": {},
   "outputs": [
    {
     "name": "stdout",
     "output_type": "stream",
     "text": [
      "Wall time: 2.61 s\n"
     ]
    }
   ],
   "source": [
    "%%time\n",
    "history = dnn_model.fit(\n",
    "    train_features, train_labels,\n",
    "    validation_split=0.2,\n",
    "    verbose=0, epochs=100)"
   ]
  },
  {
   "cell_type": "code",
   "execution_count": 60,
   "metadata": {},
   "outputs": [
    {
     "data": {
      "image/png": "[encoded data removed]",
      "text/plain": [
       "<Figure size 432x288 with 1 Axes>"
      ]
     },
     "metadata": {
      "needs_background": "light"
     },
     "output_type": "display_data"
    }
   ],
   "source": [
    "plot_loss(history)"
   ]
  },
  {
   "cell_type": "code",
   "execution_count": 70,
   "metadata": {},
   "outputs": [],
   "source": [
    "def build_and_compile_model(norm):\n",
    "  model = keras.Sequential([\n",
    "      norm,\n",
    "      layers.Dense(64, activation='relu'),\n",
    "      layers.Dense(64, activation='relu'),\n",
    "      layers.Dense(64, activation='relu'),\n",
    "      layers.Dense(64, activation='relu'),\n",
    "      layers.Dense(64, activation='relu'),\n",
    "      layers.Dense(64, activation='relu'),\n",
    "      layers.Dense(64, activation='relu'),\n",
    "      layers.Dense(64, activation='relu'),\n",
    "      layers.Dense(64, activation='relu'),\n",
    "      layers.Dense(64, activation='relu'),\n",
    "      layers.Dense(64, activation='relu'),\n",
    "      layers.Dense(64, activation='relu'),\n",
    "      layers.Dense(64, activation='relu'),\n",
    "      layers.Dense(64, activation='relu'),\n",
    "      layers.Dense(64, activation='relu'),\n",
    "      layers.Dense(64, activation='relu'),\n",
    "      layers.Dense(1)\n",
    "  ])\n",
    "\n",
    "  model.compile(loss='mean_absolute_error',\n",
    "                optimizer=\"adam\",\n",
    "                metrics=[\"mean_absolute_percentage_error\", \"mean_absolute_error\"])\n",
    "  return model"
   ]
  },
  {
   "cell_type": "code",
   "execution_count": 73,
   "metadata": {},
   "outputs": [
    {
     "name": "stdout",
     "output_type": "stream",
     "text": [
      "Model: \"sequential_9\"\n",
      "_________________________________________________________________\n",
      "Layer (type)                 Output Shape              Param #   \n",
      "=================================================================\n",
      "normalization (Normalization (None, 9)                 19        \n",
      "_________________________________________________________________\n",
      "dense_65 (Dense)             (None, 64)                640       \n",
      "_________________________________________________________________\n",
      "dense_66 (Dense)             (None, 64)                4160      \n",
      "_________________________________________________________________\n",
      "dense_67 (Dense)             (None, 64)                4160      \n",
      "_________________________________________________________________\n",
      "dense_68 (Dense)             (None, 64)                4160      \n",
      "_________________________________________________________________\n",
      "dense_69 (Dense)             (None, 64)                4160      \n",
      "_________________________________________________________________\n",
      "dense_70 (Dense)             (None, 64)                4160      \n",
      "_________________________________________________________________\n",
      "dense_71 (Dense)             (None, 64)                4160      \n",
      "_________________________________________________________________\n",
      "dense_72 (Dense)             (None, 64)                4160      \n",
      "_________________________________________________________________\n",
      "dense_73 (Dense)             (None, 64)                4160      \n",
      "_________________________________________________________________\n",
      "dense_74 (Dense)             (None, 64)                4160      \n",
      "_________________________________________________________________\n",
      "dense_75 (Dense)             (None, 64)                4160      \n",
      "_________________________________________________________________\n",
      "dense_76 (Dense)             (None, 64)                4160      \n",
      "_________________________________________________________________\n",
      "dense_77 (Dense)             (None, 64)                4160      \n",
      "_________________________________________________________________\n",
      "dense_78 (Dense)             (None, 64)                4160      \n",
      "_________________________________________________________________\n",
      "dense_79 (Dense)             (None, 64)                4160      \n",
      "_________________________________________________________________\n",
      "dense_80 (Dense)             (None, 64)                4160      \n",
      "_________________________________________________________________\n",
      "dense_81 (Dense)             (None, 1)                 65        \n",
      "=================================================================\n",
      "Total params: 63,124\n",
      "Trainable params: 63,105\n",
      "Non-trainable params: 19\n",
      "_________________________________________________________________\n"
     ]
    }
   ],
   "source": [
    "dnn_model_v3 = build_and_compile_model(normalizer)\n",
    "dnn_model_v3.summary()"
   ]
  },
  {
   "cell_type": "code",
   "execution_count": 76,
   "metadata": {},
   "outputs": [
    {
     "name": "stdout",
     "output_type": "stream",
     "text": [
      "Epoch 1/100\n",
      "8/8 [==============================] - 0s 7ms/step - loss: 1.2391 - mean_absolute_percentage_error: 5.1609 - mean_absolute_error: 1.2391 - val_loss: 1.9872 - val_mean_absolute_percentage_error: 8.6386 - val_mean_absolute_error: 1.9872\n",
      "Epoch 2/100\n",
      "8/8 [==============================] - 0s 3ms/step - loss: 1.2811 - mean_absolute_percentage_error: 5.1801 - mean_absolute_error: 1.2811 - val_loss: 2.0669 - val_mean_absolute_percentage_error: 9.1183 - val_mean_absolute_error: 2.0669\n",
      "Epoch 3/100\n",
      "8/8 [==============================] - 0s 3ms/step - loss: 1.6169 - mean_absolute_percentage_error: 6.7135 - mean_absolute_error: 1.6169 - val_loss: 2.1504 - val_mean_absolute_percentage_error: 9.5425 - val_mean_absolute_error: 2.1504\n",
      "Epoch 4/100\n",
      "8/8 [==============================] - 0s 4ms/step - loss: 1.5719 - mean_absolute_percentage_error: 6.6089 - mean_absolute_error: 1.5719 - val_loss: 1.9911 - val_mean_absolute_percentage_error: 8.7977 - val_mean_absolute_error: 1.9911\n",
      "Epoch 5/100\n",
      "8/8 [==============================] - 0s 4ms/step - loss: 1.4814 - mean_absolute_percentage_error: 6.1631 - mean_absolute_error: 1.4814 - val_loss: 2.1160 - val_mean_absolute_percentage_error: 9.0826 - val_mean_absolute_error: 2.1160\n",
      "Epoch 6/100\n",
      "8/8 [==============================] - 0s 4ms/step - loss: 1.3392 - mean_absolute_percentage_error: 5.6044 - mean_absolute_error: 1.3392 - val_loss: 1.9839 - val_mean_absolute_percentage_error: 8.7784 - val_mean_absolute_error: 1.9839\n",
      "Epoch 7/100\n",
      "8/8 [==============================] - 0s 4ms/step - loss: 1.4329 - mean_absolute_percentage_error: 5.9644 - mean_absolute_error: 1.4329 - val_loss: 2.1795 - val_mean_absolute_percentage_error: 9.1609 - val_mean_absolute_error: 2.1795\n",
      "Epoch 8/100\n",
      "8/8 [==============================] - 0s 4ms/step - loss: 1.6004 - mean_absolute_percentage_error: 6.7660 - mean_absolute_error: 1.6004 - val_loss: 2.0556 - val_mean_absolute_percentage_error: 9.1967 - val_mean_absolute_error: 2.0556\n",
      "Epoch 9/100\n",
      "8/8 [==============================] - 0s 4ms/step - loss: 1.8378 - mean_absolute_percentage_error: 7.9167 - mean_absolute_error: 1.8378 - val_loss: 1.8479 - val_mean_absolute_percentage_error: 8.1225 - val_mean_absolute_error: 1.8479\n",
      "Epoch 10/100\n",
      "8/8 [==============================] - 0s 4ms/step - loss: 1.4070 - mean_absolute_percentage_error: 5.8180 - mean_absolute_error: 1.4070 - val_loss: 2.0432 - val_mean_absolute_percentage_error: 8.7392 - val_mean_absolute_error: 2.0432\n",
      "Epoch 11/100\n",
      "8/8 [==============================] - 0s 4ms/step - loss: 1.2902 - mean_absolute_percentage_error: 5.2096 - mean_absolute_error: 1.2902 - val_loss: 2.0087 - val_mean_absolute_percentage_error: 8.9324 - val_mean_absolute_error: 2.0087\n",
      "Epoch 12/100\n",
      "8/8 [==============================] - 0s 3ms/step - loss: 1.2855 - mean_absolute_percentage_error: 5.3578 - mean_absolute_error: 1.2855 - val_loss: 2.1428 - val_mean_absolute_percentage_error: 9.1408 - val_mean_absolute_error: 2.1428\n",
      "Epoch 13/100\n",
      "8/8 [==============================] - 0s 4ms/step - loss: 1.2188 - mean_absolute_percentage_error: 5.0181 - mean_absolute_error: 1.2188 - val_loss: 1.9619 - val_mean_absolute_percentage_error: 8.7263 - val_mean_absolute_error: 1.9619\n",
      "Epoch 14/100\n",
      "8/8 [==============================] - 0s 4ms/step - loss: 1.2162 - mean_absolute_percentage_error: 5.0171 - mean_absolute_error: 1.2162 - val_loss: 2.1429 - val_mean_absolute_percentage_error: 9.1749 - val_mean_absolute_error: 2.1429\n",
      "Epoch 15/100\n",
      "8/8 [==============================] - 0s 4ms/step - loss: 1.3225 - mean_absolute_percentage_error: 5.3830 - mean_absolute_error: 1.3225 - val_loss: 1.9142 - val_mean_absolute_percentage_error: 8.2592 - val_mean_absolute_error: 1.9142\n",
      "Epoch 16/100\n",
      "8/8 [==============================] - 0s 4ms/step - loss: 1.1506 - mean_absolute_percentage_error: 4.7248 - mean_absolute_error: 1.1506 - val_loss: 2.2065 - val_mean_absolute_percentage_error: 9.3462 - val_mean_absolute_error: 2.2065\n",
      "Epoch 17/100\n",
      "8/8 [==============================] - 0s 3ms/step - loss: 1.2428 - mean_absolute_percentage_error: 5.0761 - mean_absolute_error: 1.2428 - val_loss: 2.0487 - val_mean_absolute_percentage_error: 9.0495 - val_mean_absolute_error: 2.0487\n",
      "Epoch 18/100\n",
      "8/8 [==============================] - 0s 3ms/step - loss: 1.2917 - mean_absolute_percentage_error: 5.2809 - mean_absolute_error: 1.2917 - val_loss: 2.0536 - val_mean_absolute_percentage_error: 8.9428 - val_mean_absolute_error: 2.0536\n",
      "Epoch 19/100\n",
      "8/8 [==============================] - 0s 4ms/step - loss: 1.2436 - mean_absolute_percentage_error: 5.1009 - mean_absolute_error: 1.2436 - val_loss: 2.0496 - val_mean_absolute_percentage_error: 8.8351 - val_mean_absolute_error: 2.0496\n",
      "Epoch 20/100\n",
      "8/8 [==============================] - 0s 4ms/step - loss: 1.3699 - mean_absolute_percentage_error: 5.6876 - mean_absolute_error: 1.3699 - val_loss: 2.0161 - val_mean_absolute_percentage_error: 8.8943 - val_mean_absolute_error: 2.0161\n",
      "Epoch 21/100\n",
      "8/8 [==============================] - 0s 4ms/step - loss: 1.5163 - mean_absolute_percentage_error: 6.2169 - mean_absolute_error: 1.5163 - val_loss: 2.0482 - val_mean_absolute_percentage_error: 8.7327 - val_mean_absolute_error: 2.0482\n",
      "Epoch 22/100\n",
      "8/8 [==============================] - 0s 4ms/step - loss: 1.3637 - mean_absolute_percentage_error: 5.5934 - mean_absolute_error: 1.3637 - val_loss: 1.8617 - val_mean_absolute_percentage_error: 8.2863 - val_mean_absolute_error: 1.8617\n",
      "Epoch 23/100\n",
      "8/8 [==============================] - 0s 4ms/step - loss: 1.3591 - mean_absolute_percentage_error: 5.4748 - mean_absolute_error: 1.3591 - val_loss: 2.0581 - val_mean_absolute_percentage_error: 8.9645 - val_mean_absolute_error: 2.0581\n",
      "Epoch 24/100\n",
      "8/8 [==============================] - 0s 4ms/step - loss: 1.7466 - mean_absolute_percentage_error: 7.3548 - mean_absolute_error: 1.7466 - val_loss: 2.1264 - val_mean_absolute_percentage_error: 9.5851 - val_mean_absolute_error: 2.1264\n",
      "Epoch 25/100\n",
      "8/8 [==============================] - 0s 3ms/step - loss: 1.4387 - mean_absolute_percentage_error: 5.9389 - mean_absolute_error: 1.4387 - val_loss: 2.2747 - val_mean_absolute_percentage_error: 9.5275 - val_mean_absolute_error: 2.2747\n",
      "Epoch 26/100\n",
      "8/8 [==============================] - 0s 4ms/step - loss: 1.2853 - mean_absolute_percentage_error: 5.2166 - mean_absolute_error: 1.2853 - val_loss: 1.8957 - val_mean_absolute_percentage_error: 8.4147 - val_mean_absolute_error: 1.8957\n",
      "Epoch 27/100\n",
      "8/8 [==============================] - 0s 3ms/step - loss: 1.1554 - mean_absolute_percentage_error: 4.7499 - mean_absolute_error: 1.1554 - val_loss: 1.9852 - val_mean_absolute_percentage_error: 8.6233 - val_mean_absolute_error: 1.9852\n",
      "Epoch 28/100\n",
      "8/8 [==============================] - 0s 3ms/step - loss: 1.1794 - mean_absolute_percentage_error: 4.7840 - mean_absolute_error: 1.1794 - val_loss: 1.9718 - val_mean_absolute_percentage_error: 8.4751 - val_mean_absolute_error: 1.9718\n",
      "Epoch 29/100\n",
      "8/8 [==============================] - 0s 3ms/step - loss: 1.1745 - mean_absolute_percentage_error: 4.9034 - mean_absolute_error: 1.1745 - val_loss: 2.0859 - val_mean_absolute_percentage_error: 8.9739 - val_mean_absolute_error: 2.0859\n",
      "Epoch 30/100\n",
      "8/8 [==============================] - 0s 4ms/step - loss: 1.2809 - mean_absolute_percentage_error: 5.2205 - mean_absolute_error: 1.2809 - val_loss: 2.1991 - val_mean_absolute_percentage_error: 9.3269 - val_mean_absolute_error: 2.1991\n",
      "Epoch 31/100\n",
      "8/8 [==============================] - 0s 3ms/step - loss: 1.4294 - mean_absolute_percentage_error: 5.8322 - mean_absolute_error: 1.4294 - val_loss: 2.0620 - val_mean_absolute_percentage_error: 9.2545 - val_mean_absolute_error: 2.0620\n",
      "Epoch 32/100\n",
      "8/8 [==============================] - 0s 4ms/step - loss: 1.1148 - mean_absolute_percentage_error: 4.5128 - mean_absolute_error: 1.1148 - val_loss: 1.9663 - val_mean_absolute_percentage_error: 8.6696 - val_mean_absolute_error: 1.9663\n",
      "Epoch 33/100\n",
      "8/8 [==============================] - 0s 4ms/step - loss: 1.1808 - mean_absolute_percentage_error: 4.7451 - mean_absolute_error: 1.1808 - val_loss: 1.9587 - val_mean_absolute_percentage_error: 8.4691 - val_mean_absolute_error: 1.9587\n",
      "Epoch 34/100\n"
     ]
    },
    {
     "name": "stdout",
     "output_type": "stream",
     "text": [
      "8/8 [==============================] - 0s 4ms/step - loss: 1.2223 - mean_absolute_percentage_error: 4.9493 - mean_absolute_error: 1.2223 - val_loss: 1.9471 - val_mean_absolute_percentage_error: 8.6894 - val_mean_absolute_error: 1.9471\n",
      "Epoch 35/100\n",
      "8/8 [==============================] - 0s 3ms/step - loss: 1.1682 - mean_absolute_percentage_error: 4.7591 - mean_absolute_error: 1.1682 - val_loss: 2.1675 - val_mean_absolute_percentage_error: 9.0174 - val_mean_absolute_error: 2.1675\n",
      "Epoch 36/100\n",
      "8/8 [==============================] - 0s 3ms/step - loss: 1.1452 - mean_absolute_percentage_error: 4.5867 - mean_absolute_error: 1.1452 - val_loss: 1.8723 - val_mean_absolute_percentage_error: 8.3087 - val_mean_absolute_error: 1.8723\n",
      "Epoch 37/100\n",
      "8/8 [==============================] - 0s 4ms/step - loss: 1.0825 - mean_absolute_percentage_error: 4.3980 - mean_absolute_error: 1.0825 - val_loss: 1.9870 - val_mean_absolute_percentage_error: 8.8801 - val_mean_absolute_error: 1.9870\n",
      "Epoch 38/100\n",
      "8/8 [==============================] - 0s 3ms/step - loss: 1.1305 - mean_absolute_percentage_error: 4.5853 - mean_absolute_error: 1.1305 - val_loss: 1.9380 - val_mean_absolute_percentage_error: 8.4136 - val_mean_absolute_error: 1.9380\n",
      "Epoch 39/100\n",
      "8/8 [==============================] - 0s 3ms/step - loss: 1.1354 - mean_absolute_percentage_error: 4.5346 - mean_absolute_error: 1.1354 - val_loss: 1.9134 - val_mean_absolute_percentage_error: 8.4032 - val_mean_absolute_error: 1.9134\n",
      "Epoch 40/100\n",
      "8/8 [==============================] - 0s 3ms/step - loss: 1.1123 - mean_absolute_percentage_error: 4.5573 - mean_absolute_error: 1.1123 - val_loss: 2.0468 - val_mean_absolute_percentage_error: 9.0411 - val_mean_absolute_error: 2.0468\n",
      "Epoch 41/100\n",
      "8/8 [==============================] - 0s 3ms/step - loss: 1.2011 - mean_absolute_percentage_error: 4.8399 - mean_absolute_error: 1.2011 - val_loss: 2.0019 - val_mean_absolute_percentage_error: 8.7054 - val_mean_absolute_error: 2.0019\n",
      "Epoch 42/100\n",
      "8/8 [==============================] - 0s 3ms/step - loss: 1.1125 - mean_absolute_percentage_error: 4.4886 - mean_absolute_error: 1.1125 - val_loss: 2.0271 - val_mean_absolute_percentage_error: 8.6360 - val_mean_absolute_error: 2.0271\n",
      "Epoch 43/100\n",
      "8/8 [==============================] - 0s 3ms/step - loss: 1.3737 - mean_absolute_percentage_error: 5.7082 - mean_absolute_error: 1.3737 - val_loss: 1.8848 - val_mean_absolute_percentage_error: 8.2897 - val_mean_absolute_error: 1.8848\n",
      "Epoch 44/100\n",
      "8/8 [==============================] - 0s 3ms/step - loss: 1.1939 - mean_absolute_percentage_error: 4.8560 - mean_absolute_error: 1.1939 - val_loss: 2.2270 - val_mean_absolute_percentage_error: 9.3785 - val_mean_absolute_error: 2.2270\n",
      "Epoch 45/100\n",
      "8/8 [==============================] - 0s 3ms/step - loss: 1.1947 - mean_absolute_percentage_error: 4.8003 - mean_absolute_error: 1.1947 - val_loss: 1.9729 - val_mean_absolute_percentage_error: 8.9035 - val_mean_absolute_error: 1.9729\n",
      "Epoch 46/100\n",
      "8/8 [==============================] - 0s 4ms/step - loss: 1.1677 - mean_absolute_percentage_error: 4.8192 - mean_absolute_error: 1.1677 - val_loss: 2.0149 - val_mean_absolute_percentage_error: 8.6932 - val_mean_absolute_error: 2.0149\n",
      "Epoch 47/100\n",
      "8/8 [==============================] - 0s 3ms/step - loss: 1.1667 - mean_absolute_percentage_error: 4.6825 - mean_absolute_error: 1.1667 - val_loss: 1.9266 - val_mean_absolute_percentage_error: 8.6577 - val_mean_absolute_error: 1.9266\n",
      "Epoch 48/100\n",
      "8/8 [==============================] - 0s 3ms/step - loss: 1.5170 - mean_absolute_percentage_error: 6.3519 - mean_absolute_error: 1.5170 - val_loss: 2.0204 - val_mean_absolute_percentage_error: 8.6910 - val_mean_absolute_error: 2.0204\n",
      "Epoch 49/100\n",
      "8/8 [==============================] - 0s 4ms/step - loss: 1.2091 - mean_absolute_percentage_error: 4.8699 - mean_absolute_error: 1.2091 - val_loss: 1.9839 - val_mean_absolute_percentage_error: 8.4674 - val_mean_absolute_error: 1.9839\n",
      "Epoch 50/100\n",
      "8/8 [==============================] - 0s 4ms/step - loss: 1.0996 - mean_absolute_percentage_error: 4.4068 - mean_absolute_error: 1.0996 - val_loss: 1.9617 - val_mean_absolute_percentage_error: 8.8012 - val_mean_absolute_error: 1.9617\n",
      "Epoch 51/100\n",
      "8/8 [==============================] - 0s 4ms/step - loss: 1.1474 - mean_absolute_percentage_error: 4.6979 - mean_absolute_error: 1.1474 - val_loss: 2.1695 - val_mean_absolute_percentage_error: 9.2570 - val_mean_absolute_error: 2.1695\n",
      "Epoch 52/100\n",
      "8/8 [==============================] - 0s 4ms/step - loss: 1.2329 - mean_absolute_percentage_error: 5.0848 - mean_absolute_error: 1.2329 - val_loss: 2.0737 - val_mean_absolute_percentage_error: 9.3184 - val_mean_absolute_error: 2.0737\n",
      "Epoch 53/100\n",
      "8/8 [==============================] - 0s 4ms/step - loss: 1.4570 - mean_absolute_percentage_error: 6.0365 - mean_absolute_error: 1.4570 - val_loss: 2.3795 - val_mean_absolute_percentage_error: 9.9562 - val_mean_absolute_error: 2.3795\n",
      "Epoch 54/100\n",
      "8/8 [==============================] - 0s 4ms/step - loss: 1.4640 - mean_absolute_percentage_error: 5.6653 - mean_absolute_error: 1.4640 - val_loss: 2.0973 - val_mean_absolute_percentage_error: 9.3760 - val_mean_absolute_error: 2.0973\n",
      "Epoch 55/100\n",
      "8/8 [==============================] - 0s 4ms/step - loss: 1.2388 - mean_absolute_percentage_error: 5.0022 - mean_absolute_error: 1.2388 - val_loss: 1.9782 - val_mean_absolute_percentage_error: 8.6399 - val_mean_absolute_error: 1.9782\n",
      "Epoch 56/100\n",
      "8/8 [==============================] - 0s 4ms/step - loss: 1.3276 - mean_absolute_percentage_error: 5.4072 - mean_absolute_error: 1.3276 - val_loss: 2.2911 - val_mean_absolute_percentage_error: 9.5162 - val_mean_absolute_error: 2.2911\n",
      "Epoch 57/100\n",
      "8/8 [==============================] - 0s 4ms/step - loss: 1.4179 - mean_absolute_percentage_error: 5.9213 - mean_absolute_error: 1.4179 - val_loss: 1.9527 - val_mean_absolute_percentage_error: 8.6155 - val_mean_absolute_error: 1.9527\n",
      "Epoch 58/100\n",
      "8/8 [==============================] - 0s 4ms/step - loss: 1.1156 - mean_absolute_percentage_error: 4.4819 - mean_absolute_error: 1.1156 - val_loss: 2.0952 - val_mean_absolute_percentage_error: 8.8777 - val_mean_absolute_error: 2.0952\n",
      "Epoch 59/100\n",
      "8/8 [==============================] - 0s 4ms/step - loss: 1.1214 - mean_absolute_percentage_error: 4.4530 - mean_absolute_error: 1.1214 - val_loss: 1.9609 - val_mean_absolute_percentage_error: 8.7859 - val_mean_absolute_error: 1.9609\n",
      "Epoch 60/100\n",
      "8/8 [==============================] - 0s 3ms/step - loss: 1.1299 - mean_absolute_percentage_error: 4.5040 - mean_absolute_error: 1.1299 - val_loss: 2.0794 - val_mean_absolute_percentage_error: 9.0442 - val_mean_absolute_error: 2.0794\n",
      "Epoch 61/100\n",
      "8/8 [==============================] - ETA: 0s - loss: 1.4773 - mean_absolute_percentage_error: 5.6539 - mean_absolute_error: 1.47 - 0s 3ms/step - loss: 1.1698 - mean_absolute_percentage_error: 4.7889 - mean_absolute_error: 1.1698 - val_loss: 2.0233 - val_mean_absolute_percentage_error: 8.9323 - val_mean_absolute_error: 2.0233\n",
      "Epoch 62/100\n",
      "8/8 [==============================] - 0s 3ms/step - loss: 1.1140 - mean_absolute_percentage_error: 4.5771 - mean_absolute_error: 1.1140 - val_loss: 2.0281 - val_mean_absolute_percentage_error: 9.0162 - val_mean_absolute_error: 2.0281\n",
      "Epoch 63/100\n",
      "8/8 [==============================] - 0s 3ms/step - loss: 1.2244 - mean_absolute_percentage_error: 4.8423 - mean_absolute_error: 1.2244 - val_loss: 2.1060 - val_mean_absolute_percentage_error: 9.0214 - val_mean_absolute_error: 2.1060\n",
      "Epoch 64/100\n",
      "8/8 [==============================] - 0s 3ms/step - loss: 1.0951 - mean_absolute_percentage_error: 4.3950 - mean_absolute_error: 1.0951 - val_loss: 1.9399 - val_mean_absolute_percentage_error: 8.6020 - val_mean_absolute_error: 1.9399\n",
      "Epoch 65/100\n",
      "8/8 [==============================] - 0s 3ms/step - loss: 1.2166 - mean_absolute_percentage_error: 5.0365 - mean_absolute_error: 1.2166 - val_loss: 2.1151 - val_mean_absolute_percentage_error: 9.1047 - val_mean_absolute_error: 2.1151\n",
      "Epoch 66/100\n",
      "8/8 [==============================] - 0s 3ms/step - loss: 1.0603 - mean_absolute_percentage_error: 4.2547 - mean_absolute_error: 1.0603 - val_loss: 2.0396 - val_mean_absolute_percentage_error: 8.8443 - val_mean_absolute_error: 2.0396\n"
     ]
    },
    {
     "name": "stdout",
     "output_type": "stream",
     "text": [
      "Epoch 67/100\n",
      "8/8 [==============================] - 0s 3ms/step - loss: 1.2061 - mean_absolute_percentage_error: 4.9647 - mean_absolute_error: 1.2061 - val_loss: 2.3655 - val_mean_absolute_percentage_error: 9.7620 - val_mean_absolute_error: 2.3655\n",
      "Epoch 68/100\n",
      "8/8 [==============================] - 0s 3ms/step - loss: 1.2666 - mean_absolute_percentage_error: 5.2442 - mean_absolute_error: 1.2666 - val_loss: 1.9310 - val_mean_absolute_percentage_error: 8.6781 - val_mean_absolute_error: 1.9310\n",
      "Epoch 69/100\n",
      "8/8 [==============================] - 0s 3ms/step - loss: 1.1373 - mean_absolute_percentage_error: 4.6788 - mean_absolute_error: 1.1373 - val_loss: 1.9483 - val_mean_absolute_percentage_error: 8.4215 - val_mean_absolute_error: 1.9483\n",
      "Epoch 70/100\n",
      "8/8 [==============================] - ETA: 0s - loss: 0.9355 - mean_absolute_percentage_error: 3.9008 - mean_absolute_error: 0.93 - 0s 3ms/step - loss: 1.0704 - mean_absolute_percentage_error: 4.3410 - mean_absolute_error: 1.0704 - val_loss: 2.1353 - val_mean_absolute_percentage_error: 9.0503 - val_mean_absolute_error: 2.1353\n",
      "Epoch 71/100\n",
      "8/8 [==============================] - 0s 3ms/step - loss: 1.3273 - mean_absolute_percentage_error: 5.4556 - mean_absolute_error: 1.3273 - val_loss: 2.0877 - val_mean_absolute_percentage_error: 9.0040 - val_mean_absolute_error: 2.0877\n",
      "Epoch 72/100\n",
      "8/8 [==============================] - 0s 3ms/step - loss: 1.1151 - mean_absolute_percentage_error: 4.5118 - mean_absolute_error: 1.1151 - val_loss: 2.0333 - val_mean_absolute_percentage_error: 8.8767 - val_mean_absolute_error: 2.0333\n",
      "Epoch 73/100\n",
      "8/8 [==============================] - 0s 3ms/step - loss: 1.2385 - mean_absolute_percentage_error: 4.9410 - mean_absolute_error: 1.2385 - val_loss: 2.0930 - val_mean_absolute_percentage_error: 9.0016 - val_mean_absolute_error: 2.0930\n",
      "Epoch 74/100\n",
      "8/8 [==============================] - 0s 3ms/step - loss: 1.2867 - mean_absolute_percentage_error: 5.1117 - mean_absolute_error: 1.2867 - val_loss: 2.0913 - val_mean_absolute_percentage_error: 9.0528 - val_mean_absolute_error: 2.0913\n",
      "Epoch 75/100\n",
      "8/8 [==============================] - 0s 4ms/step - loss: 1.2677 - mean_absolute_percentage_error: 5.2108 - mean_absolute_error: 1.2677 - val_loss: 2.1643 - val_mean_absolute_percentage_error: 9.2268 - val_mean_absolute_error: 2.1643\n",
      "Epoch 76/100\n",
      "8/8 [==============================] - ETA: 0s - loss: 0.8810 - mean_absolute_percentage_error: 3.7858 - mean_absolute_error: 0.88 - 0s 3ms/step - loss: 1.1217 - mean_absolute_percentage_error: 4.4953 - mean_absolute_error: 1.1217 - val_loss: 2.0317 - val_mean_absolute_percentage_error: 9.2337 - val_mean_absolute_error: 2.0317\n",
      "Epoch 77/100\n",
      "8/8 [==============================] - 0s 3ms/step - loss: 1.1431 - mean_absolute_percentage_error: 4.7213 - mean_absolute_error: 1.1431 - val_loss: 2.0897 - val_mean_absolute_percentage_error: 8.9066 - val_mean_absolute_error: 2.0897\n",
      "Epoch 78/100\n",
      "8/8 [==============================] - 0s 3ms/step - loss: 1.0003 - mean_absolute_percentage_error: 3.9693 - mean_absolute_error: 1.0003 - val_loss: 1.9692 - val_mean_absolute_percentage_error: 8.7158 - val_mean_absolute_error: 1.9692\n",
      "Epoch 79/100\n",
      "8/8 [==============================] - 0s 3ms/step - loss: 1.1981 - mean_absolute_percentage_error: 4.9005 - mean_absolute_error: 1.1981 - val_loss: 2.7114 - val_mean_absolute_percentage_error: 11.1564 - val_mean_absolute_error: 2.7114\n",
      "Epoch 80/100\n",
      "8/8 [==============================] - 0s 3ms/step - loss: 1.4387 - mean_absolute_percentage_error: 5.9766 - mean_absolute_error: 1.4387 - val_loss: 2.1073 - val_mean_absolute_percentage_error: 9.4069 - val_mean_absolute_error: 2.1073\n",
      "Epoch 81/100\n",
      "8/8 [==============================] - 0s 3ms/step - loss: 1.3721 - mean_absolute_percentage_error: 5.4852 - mean_absolute_error: 1.3721 - val_loss: 2.0698 - val_mean_absolute_percentage_error: 9.0742 - val_mean_absolute_error: 2.0698\n",
      "Epoch 82/100\n",
      "8/8 [==============================] - 0s 4ms/step - loss: 1.1270 - mean_absolute_percentage_error: 4.5261 - mean_absolute_error: 1.1270 - val_loss: 2.0626 - val_mean_absolute_percentage_error: 9.0074 - val_mean_absolute_error: 2.0626\n",
      "Epoch 83/100\n",
      "8/8 [==============================] - 0s 4ms/step - loss: 1.0977 - mean_absolute_percentage_error: 4.4671 - mean_absolute_error: 1.0977 - val_loss: 2.3009 - val_mean_absolute_percentage_error: 9.5770 - val_mean_absolute_error: 2.3009\n",
      "Epoch 84/100\n",
      "8/8 [==============================] - 0s 3ms/step - loss: 1.1187 - mean_absolute_percentage_error: 4.5908 - mean_absolute_error: 1.1187 - val_loss: 2.0984 - val_mean_absolute_percentage_error: 8.9764 - val_mean_absolute_error: 2.0984\n",
      "Epoch 85/100\n",
      "8/8 [==============================] - 0s 3ms/step - loss: 1.0062 - mean_absolute_percentage_error: 4.0060 - mean_absolute_error: 1.0062 - val_loss: 2.0395 - val_mean_absolute_percentage_error: 8.9259 - val_mean_absolute_error: 2.0395\n",
      "Epoch 86/100\n",
      "8/8 [==============================] - 0s 3ms/step - loss: 1.0347 - mean_absolute_percentage_error: 4.1426 - mean_absolute_error: 1.0347 - val_loss: 2.1687 - val_mean_absolute_percentage_error: 9.1688 - val_mean_absolute_error: 2.1687\n",
      "Epoch 87/100\n",
      "8/8 [==============================] - 0s 3ms/step - loss: 1.0332 - mean_absolute_percentage_error: 4.0945 - mean_absolute_error: 1.0332 - val_loss: 2.0138 - val_mean_absolute_percentage_error: 8.8490 - val_mean_absolute_error: 2.0138\n",
      "Epoch 88/100\n",
      "8/8 [==============================] - 0s 3ms/step - loss: 1.1031 - mean_absolute_percentage_error: 4.3734 - mean_absolute_error: 1.1031 - val_loss: 2.0782 - val_mean_absolute_percentage_error: 8.9405 - val_mean_absolute_error: 2.0782\n",
      "Epoch 89/100\n",
      "8/8 [==============================] - 0s 3ms/step - loss: 1.0185 - mean_absolute_percentage_error: 4.1128 - mean_absolute_error: 1.0185 - val_loss: 2.0967 - val_mean_absolute_percentage_error: 8.9558 - val_mean_absolute_error: 2.0967\n",
      "Epoch 90/100\n",
      "8/8 [==============================] - 0s 3ms/step - loss: 1.0870 - mean_absolute_percentage_error: 4.3843 - mean_absolute_error: 1.0870 - val_loss: 2.0040 - val_mean_absolute_percentage_error: 8.8285 - val_mean_absolute_error: 2.0040\n",
      "Epoch 91/100\n",
      "8/8 [==============================] - 0s 3ms/step - loss: 1.0882 - mean_absolute_percentage_error: 4.4596 - mean_absolute_error: 1.0882 - val_loss: 2.0426 - val_mean_absolute_percentage_error: 9.0253 - val_mean_absolute_error: 2.0426\n",
      "Epoch 92/100\n",
      "8/8 [==============================] - 0s 3ms/step - loss: 1.0573 - mean_absolute_percentage_error: 4.3231 - mean_absolute_error: 1.0573 - val_loss: 2.0469 - val_mean_absolute_percentage_error: 8.8651 - val_mean_absolute_error: 2.0469\n",
      "Epoch 93/100\n",
      "8/8 [==============================] - 0s 3ms/step - loss: 1.0584 - mean_absolute_percentage_error: 4.2957 - mean_absolute_error: 1.0584 - val_loss: 2.1588 - val_mean_absolute_percentage_error: 9.3052 - val_mean_absolute_error: 2.1588\n",
      "Epoch 94/100\n",
      "8/8 [==============================] - 0s 4ms/step - loss: 1.0258 - mean_absolute_percentage_error: 4.0598 - mean_absolute_error: 1.0258 - val_loss: 1.9949 - val_mean_absolute_percentage_error: 8.7802 - val_mean_absolute_error: 1.9949\n",
      "Epoch 95/100\n",
      "8/8 [==============================] - 0s 4ms/step - loss: 1.2427 - mean_absolute_percentage_error: 4.9029 - mean_absolute_error: 1.2427 - val_loss: 2.3891 - val_mean_absolute_percentage_error: 9.8143 - val_mean_absolute_error: 2.3891\n",
      "Epoch 96/100\n",
      "8/8 [==============================] - 0s 4ms/step - loss: 1.2715 - mean_absolute_percentage_error: 5.1909 - mean_absolute_error: 1.2715 - val_loss: 2.1645 - val_mean_absolute_percentage_error: 9.2290 - val_mean_absolute_error: 2.1645\n",
      "Epoch 97/100\n",
      "8/8 [==============================] - 0s 4ms/step - loss: 1.4717 - mean_absolute_percentage_error: 6.0087 - mean_absolute_error: 1.4717 - val_loss: 2.1601 - val_mean_absolute_percentage_error: 9.0981 - val_mean_absolute_error: 2.1601\n",
      "Epoch 98/100\n",
      "8/8 [==============================] - 0s 4ms/step - loss: 1.1204 - mean_absolute_percentage_error: 4.6339 - mean_absolute_error: 1.1204 - val_loss: 2.0927 - val_mean_absolute_percentage_error: 9.0125 - val_mean_absolute_error: 2.0927\n",
      "Epoch 99/100\n"
     ]
    },
    {
     "name": "stdout",
     "output_type": "stream",
     "text": [
      "8/8 [==============================] - 0s 3ms/step - loss: 1.0252 - mean_absolute_percentage_error: 4.1097 - mean_absolute_error: 1.0252 - val_loss: 2.1229 - val_mean_absolute_percentage_error: 9.2866 - val_mean_absolute_error: 2.1229\n",
      "Epoch 100/100\n",
      "8/8 [==============================] - 0s 3ms/step - loss: 1.0923 - mean_absolute_percentage_error: 4.4670 - mean_absolute_error: 1.0923 - val_loss: 2.2791 - val_mean_absolute_percentage_error: 9.6716 - val_mean_absolute_error: 2.2791\n"
     ]
    }
   ],
   "source": [
    "history = dnn_model_v3.fit(\n",
    "    x=train_features, y=train_labels,\n",
    "    validation_split=0.2,\n",
    "    epochs=100)"
   ]
  },
  {
   "cell_type": "code",
   "execution_count": 77,
   "metadata": {},
   "outputs": [
    {
     "data": {
      "image/png": "[encoded data removed]",
      "text/plain": [
       "<Figure size 432x288 with 1 Axes>"
      ]
     },
     "metadata": {
      "needs_background": "light"
     },
     "output_type": "display_data"
    }
   ],
   "source": [
    "plot_loss(history)"
   ]
  },
  {
   "cell_type": "code",
   "execution_count": null,
   "metadata": {},
   "outputs": [],
   "source": []
  }
 ],
 "metadata": {
  "kernelspec": {
   "display_name": "‘TensorFlow-GPU’",
   "language": "python",
   "name": "tensorflow"
  },
  "language_info": {
   "codemirror_mode": {
    "name": "ipython",
    "version": 3
   },
   "file_extension": ".py",
   "mimetype": "text/x-python",
   "name": "python",
   "nbconvert_exporter": "python",
   "pygments_lexer": "ipython3",
   "version": "3.8.3"
  }
 },
 "nbformat": 4,
 "nbformat_minor": 4
}
